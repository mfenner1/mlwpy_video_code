{
 "cells": [
  {
   "cell_type": "code",
   "execution_count": 1,
   "id": "057eb7b2",
   "metadata": {},
   "outputs": [],
   "source": [
    "from mlwpy import *\n",
    "from helpers import *\n",
    "\n",
    "iris = datasets.load_iris()\n",
    "diabetes = datasets.load_diabetes()\n",
    "digits = datasets.load_digits()"
   ]
  },
  {
   "cell_type": "markdown",
   "id": "27373c1d",
   "metadata": {},
   "source": [
    "# Models, Parameters, and Hyperparameters"
   ]
  },
  {
   "cell_type": "code",
   "execution_count": 2,
   "id": "a09f2836",
   "metadata": {},
   "outputs": [
    {
     "data": {
      "text/plain": [
       "13"
      ]
     },
     "execution_count": 2,
     "metadata": {},
     "output_type": "execute_result"
    }
   ],
   "source": [
    "def add_three(x):\n",
    "    return x + 3\n",
    "add_three(10)"
   ]
  },
  {
   "cell_type": "code",
   "execution_count": 3,
   "id": "838f72eb",
   "metadata": {},
   "outputs": [
    {
     "data": {
      "text/plain": [
       "13"
      ]
     },
     "execution_count": 3,
     "metadata": {},
     "output_type": "execute_result"
    }
   ],
   "source": [
    "def make_adder(k):\n",
    "    def add_k(x):\n",
    "        return x + k\n",
    "    return add_k\n",
    "\n",
    "three_adder = make_adder(3) # makes a new 3 adder\n",
    "three_adder(10)"
   ]
  },
  {
   "cell_type": "code",
   "execution_count": 4,
   "id": "4da48049",
   "metadata": {},
   "outputs": [
    {
     "data": {
      "text/plain": [
       "15"
      ]
     },
     "execution_count": 4,
     "metadata": {},
     "output_type": "execute_result"
    }
   ],
   "source": [
    "five_adder = make_adder(5)\n",
    "five_adder(10)"
   ]
  },
  {
   "cell_type": "code",
   "execution_count": 5,
   "id": "260a38b2",
   "metadata": {},
   "outputs": [
    {
     "data": {
      "text/plain": [
       "array([  0.    ,  -0.    , 471.0387, 136.5071,  -0.    ,  -0.    ,\n",
       "       -58.3195,   0.    , 408.0233,   0.    ])"
      ]
     },
     "execution_count": 5,
     "metadata": {},
     "output_type": "execute_result"
    }
   ],
   "source": [
    "lasso = linear_model.Lasso(alpha=0.5)\n",
    "lasso.fit(diabetes.data, diabetes.target)\n",
    "lasso.coef_  # coeffs, weights --> params"
   ]
  },
  {
   "cell_type": "code",
   "execution_count": 6,
   "id": "1c27f27a",
   "metadata": {},
   "outputs": [
    {
     "data": {
      "text/plain": [
       "array([ 0.    ,  0.    , 63.7957,  0.    ,  0.    ,  0.    , -0.    ,\n",
       "        0.    ,  3.6757,  0.    ])"
      ]
     },
     "execution_count": 6,
     "metadata": {},
     "output_type": "execute_result"
    }
   ],
   "source": [
    "lasso = linear_model.Lasso(alpha=2.0)\n",
    "lasso.fit(diabetes.data, diabetes.target)\n",
    "lasso.coef_  # coeffs, weights --> params"
   ]
  },
  {
   "cell_type": "markdown",
   "id": "f44d9355",
   "metadata": {},
   "source": [
    "# Tuning Hyperparameters"
   ]
  },
  {
   "cell_type": "markdown",
   "id": "05ac6b3a",
   "metadata": {},
   "source": [
    "##### Manual Tuning"
   ]
  },
  {
   "cell_type": "code",
   "execution_count": 7,
   "id": "e52c6b9b",
   "metadata": {},
   "outputs": [
    {
     "name": "stdout",
     "output_type": "stream",
     "text": [
      "algorithm leaf_size metric metric_params n_jobs n_neighbors p weights\n"
     ]
    }
   ],
   "source": [
    "knn = neighbors.KNeighborsClassifier()\n",
    "print(\" \".join(knn.get_params().keys()))"
   ]
  },
  {
   "cell_type": "code",
   "execution_count": 8,
   "id": "89198079",
   "metadata": {},
   "outputs": [],
   "source": [
    "num_neigh = [1,3,5,10,15,20]\n",
    "KNC = neighbors.KNeighborsClassifier\n",
    "tt = skms.validation_curve(KNC(), \n",
    "                           iris.data, iris.target, \n",
    "                           param_name='n_neighbors',\n",
    "                           param_range=num_neigh,\n",
    "                           cv=5)"
   ]
  },
  {
   "cell_type": "code",
   "execution_count": 9,
   "id": "da4f3cc5",
   "metadata": {},
   "outputs": [
    {
     "data": {
      "image/png": "[encoded data removed]",
      "text/plain": [
       "<Figure size 288x216 with 1 Axes>"
      ]
     },
     "metadata": {
      "needs_background": "light"
     },
     "output_type": "display_data"
    }
   ],
   "source": [
    "tidy_df = sk_graph_to_tidy(tt, num_neigh, 'k', 5)\n",
    "ax = sns.lineplot(data=tidy_df, x='k', y='score', \n",
    "                  hue='set')\n",
    "\n",
    "ax.set_title('5-fold CV Performance for k-NN')\n",
    "ax.set_xlabel(\"\\n\".join(['k for k-NN',\n",
    "                         'lower k, more complex',\n",
    "                         'higher k, less complex']))\n",
    "ax.set_ylim(.9, 1.01)\n",
    "ax.set_ylabel('Accuracy');"
   ]
  },
  {
   "cell_type": "markdown",
   "id": "1bc37996",
   "metadata": {},
   "source": [
    "##### Support for Tuning"
   ]
  },
  {
   "cell_type": "code",
   "execution_count": 10,
   "id": "0618c435",
   "metadata": {},
   "outputs": [
    {
     "data": {
      "text/plain": [
       "GridSearchCV(cv=10, estimator=KNeighborsClassifier(),\n",
       "             param_grid={'n_neighbors': [1, 3, 5, 10, 20]},\n",
       "             return_train_score=True)"
      ]
     },
     "execution_count": 10,
     "metadata": {},
     "output_type": "execute_result"
    }
   ],
   "source": [
    "param_grid = {\"n_neighbors\" : [1,3,5,10,20]}\n",
    "\n",
    "knn = neighbors.KNeighborsClassifier()\n",
    "# warning! this is with accuracy\n",
    "grid_model = skms.GridSearchCV(knn,\n",
    "                               return_train_score=True,\n",
    "                               param_grid = param_grid, \n",
    "                               cv=10)\n",
    "\n",
    "grid_model.fit(digits.data, digits.target)"
   ]
  },
  {
   "cell_type": "code",
   "execution_count": 11,
   "id": "1a77f0ec",
   "metadata": {},
   "outputs": [
    {
     "data": {
      "text/html": [
       "<div>\n",
       "<style scoped>\n",
       "    .dataframe tbody tr th:only-of-type {\n",
       "        vertical-align: middle;\n",
       "    }\n",
       "\n",
       "    .dataframe tbody tr th {\n",
       "        vertical-align: top;\n",
       "    }\n",
       "\n",
       "    .dataframe thead th {\n",
       "        text-align: right;\n",
       "    }\n",
       "</style>\n",
       "<table border=\"1\" class=\"dataframe\">\n",
       "  <thead>\n",
       "    <tr style=\"text-align: right;\">\n",
       "      <th></th>\n",
       "      <th>param_n_neighbors</th>\n",
       "      <th>mean_train_score</th>\n",
       "      <th>std_train_score</th>\n",
       "      <th>mean_test_score</th>\n",
       "      <th>std_test_score</th>\n",
       "    </tr>\n",
       "  </thead>\n",
       "  <tbody>\n",
       "    <tr>\n",
       "      <th>0</th>\n",
       "      <td>1</td>\n",
       "      <td>1.0000</td>\n",
       "      <td>0.0000</td>\n",
       "      <td>0.9750</td>\n",
       "      <td>0.0171</td>\n",
       "    </tr>\n",
       "    <tr>\n",
       "      <th>1</th>\n",
       "      <td>3</td>\n",
       "      <td>0.9933</td>\n",
       "      <td>0.0008</td>\n",
       "      <td>0.9766</td>\n",
       "      <td>0.0155</td>\n",
       "    </tr>\n",
       "    <tr>\n",
       "      <th>2</th>\n",
       "      <td>5</td>\n",
       "      <td>0.9905</td>\n",
       "      <td>0.0006</td>\n",
       "      <td>0.9711</td>\n",
       "      <td>0.0172</td>\n",
       "    </tr>\n",
       "    <tr>\n",
       "      <th>3</th>\n",
       "      <td>10</td>\n",
       "      <td>0.9858</td>\n",
       "      <td>0.0013</td>\n",
       "      <td>0.9622</td>\n",
       "      <td>0.0205</td>\n",
       "    </tr>\n",
       "    <tr>\n",
       "      <th>4</th>\n",
       "      <td>20</td>\n",
       "      <td>0.9807</td>\n",
       "      <td>0.0017</td>\n",
       "      <td>0.9588</td>\n",
       "      <td>0.0224</td>\n",
       "    </tr>\n",
       "  </tbody>\n",
       "</table>\n",
       "</div>"
      ],
      "text/latex": [
       "{\\centering\n",
       "\\begin{tabular}{llrrrr}\n",
       "\\toprule\n",
       "{} & param\\_n\\_neighbors &     mean\\_train\\_score &      std\\_train\\_score &      mean\\_test\\_score &       std\\_test\\_score \\\\\n",
       "\\midrule\n",
       "0 &                 1 &               1.0000 &               0.0000 &               0.9750 &               0.0171 \\\\\n",
       "1 &                 3 &               0.9933 &               0.0008 &               0.9766 &               0.0155 \\\\\n",
       "2 &                 5 &               0.9905 &               0.0006 &               0.9711 &               0.0172 \\\\\n",
       "3 &                10 &               0.9858 &               0.0013 &               0.9622 &               0.0205 \\\\\n",
       "4 &                20 &               0.9807 &               0.0017 &               0.9588 &               0.0224 \\\\\n",
       "\\bottomrule\n",
       "\\end{tabular}\n",
       "\n",
       "\\medskip}"
      ],
      "text/plain": [
       "  param_n_neighbors     mean_train_score      std_train_score  \\\n",
       "0                 1               1.0000               0.0000   \n",
       "1                 3               0.9933               0.0008   \n",
       "2                 5               0.9905               0.0006   \n",
       "3                10               0.9858               0.0013   \n",
       "4                20               0.9807               0.0017   \n",
       "\n",
       "       mean_test_score       std_test_score  \n",
       "0               0.9750               0.0171  \n",
       "1               0.9766               0.0155  \n",
       "2               0.9711               0.0172  \n",
       "3               0.9622               0.0205  \n",
       "4               0.9588               0.0224  "
      ]
     },
     "metadata": {},
     "output_type": "display_data"
    }
   ],
   "source": [
    "param_cols = ['param_n_neighbors']\n",
    "score_cols = ['mean_train_score', 'std_train_score',\n",
    "              'mean_test_score', 'std_test_score']\n",
    "\n",
    "# look at first five params with head()\n",
    "df = pd.DataFrame(grid_model.cv_results_).head()\n",
    "\n",
    "display(df[param_cols + score_cols])"
   ]
  },
  {
   "cell_type": "code",
   "execution_count": 12,
   "id": "a39eb3cb",
   "metadata": {},
   "outputs": [
    {
     "data": {
      "text/html": [
       "<div>\n",
       "<style scoped>\n",
       "    .dataframe tbody tr th:only-of-type {\n",
       "        vertical-align: middle;\n",
       "    }\n",
       "\n",
       "    .dataframe tbody tr th {\n",
       "        vertical-align: top;\n",
       "    }\n",
       "\n",
       "    .dataframe thead th {\n",
       "        text-align: right;\n",
       "    }\n",
       "</style>\n",
       "<table border=\"1\" class=\"dataframe\">\n",
       "  <thead>\n",
       "    <tr style=\"text-align: right;\">\n",
       "      <th></th>\n",
       "      <th>mean_train_score</th>\n",
       "      <th>mean_test_score</th>\n",
       "    </tr>\n",
       "    <tr>\n",
       "      <th>param_n_neighbors</th>\n",
       "      <th></th>\n",
       "      <th></th>\n",
       "    </tr>\n",
       "  </thead>\n",
       "  <tbody>\n",
       "    <tr>\n",
       "      <th>1</th>\n",
       "      <td>1.0000</td>\n",
       "      <td>0.9750</td>\n",
       "    </tr>\n",
       "    <tr>\n",
       "      <th>3</th>\n",
       "      <td>0.9933</td>\n",
       "      <td>0.9766</td>\n",
       "    </tr>\n",
       "    <tr>\n",
       "      <th>5</th>\n",
       "      <td>0.9905</td>\n",
       "      <td>0.9711</td>\n",
       "    </tr>\n",
       "    <tr>\n",
       "      <th>10</th>\n",
       "      <td>0.9858</td>\n",
       "      <td>0.9622</td>\n",
       "    </tr>\n",
       "    <tr>\n",
       "      <th>20</th>\n",
       "      <td>0.9807</td>\n",
       "      <td>0.9588</td>\n",
       "    </tr>\n",
       "  </tbody>\n",
       "</table>\n",
       "</div>"
      ],
      "text/latex": [
       "{\\centering\n",
       "\\begin{tabular}{lrr}\n",
       "\\toprule\n",
       "{} &     mean\\_train\\_score &      mean\\_test\\_score \\\\\n",
       "param\\_n\\_neighbors &                      &                      \\\\\n",
       "\\midrule\n",
       "1                 &               1.0000 &               0.9750 \\\\\n",
       "3                 &               0.9933 &               0.9766 \\\\\n",
       "5                 &               0.9905 &               0.9711 \\\\\n",
       "10                &               0.9858 &               0.9622 \\\\\n",
       "20                &               0.9807 &               0.9588 \\\\\n",
       "\\bottomrule\n",
       "\\end{tabular}\n",
       "\n",
       "\\medskip}"
      ],
      "text/plain": [
       "                      mean_train_score      mean_test_score\n",
       "param_n_neighbors                                          \n",
       "1                               1.0000               0.9750\n",
       "3                               0.9933               0.9766\n",
       "5                               0.9905               0.9711\n",
       "10                              0.9858               0.9622\n",
       "20                              0.9807               0.9588"
      ]
     },
     "metadata": {},
     "output_type": "display_data"
    }
   ],
   "source": [
    "grid_df = pd.DataFrame(grid_model.cv_results_, \n",
    "                       columns=['param_n_neighbors',\n",
    "                                'mean_train_score',\n",
    "                                'mean_test_score'])\n",
    "grid_df.set_index('param_n_neighbors', inplace=True)\n",
    "display(grid_df)"
   ]
  },
  {
   "cell_type": "code",
   "execution_count": 13,
   "id": "f0731e97",
   "metadata": {},
   "outputs": [
    {
     "data": {
      "image/png": "[encoded data removed]",
      "text/plain": [
       "<Figure size 288x216 with 1 Axes>"
      ]
     },
     "metadata": {
      "needs_background": "light"
     },
     "output_type": "display_data"
    }
   ],
   "source": [
    "ax = grid_df.plot.line(marker='.')\n",
    "ax.set_xticks(grid_df.index);"
   ]
  },
  {
   "cell_type": "code",
   "execution_count": 14,
   "id": "bdc23a72",
   "metadata": {},
   "outputs": [],
   "source": [
    "# this cell is pseudo-code, it won't run\n",
    "def best_model_hyper_params(make_a_model,\n",
    "                            some_hyper_params,\n",
    "                            data):\n",
    "    results = {}\n",
    "    for hyper_params in it.combinations(some_hyper_params):\n",
    "        for train, test in make_cv_split(data):\n",
    "            model = make_a_model(*hyper_params).fit(train)\n",
    "            # update results with current score\n",
    "    \n",
    "    best_hp = max(results, key=results.get)\n",
    "    best_model = make_a_model(*best_hp).fit(data)\n",
    "    return best_model\n",
    "\n",
    "def do_it():\n",
    "    model = pick_a_model # e.g., kNN\n",
    "\n",
    "    some_hyper_params = [values_for_hyper_param_1, # e.g., n_neighbors=[]\n",
    "                         values_for_hyper_param_2,\n",
    "                         values_for_hyper_param_3]\n",
    "\n",
    "    best_model_hyper_params(model_type, \n",
    "                            some_hyper_params, \n",
    "                            data)"
   ]
  },
  {
   "cell_type": "code",
   "execution_count": 15,
   "id": "5750165b",
   "metadata": {},
   "outputs": [],
   "source": [
    "param_grid = {\"n_neighbors\" : np.arange(1,11),\n",
    "              \"weights\"     : ['uniform', 'distance'],\n",
    "              \"p\"           : [1,2,4,8,16]}\n",
    "\n",
    "knn = neighbors.KNeighborsClassifier()\n",
    "grid_model = skms.GridSearchCV(knn, param_grid = param_grid, cv=10)"
   ]
  },
  {
   "cell_type": "code",
   "execution_count": 16,
   "id": "d5cbb082",
   "metadata": {},
   "outputs": [
    {
     "name": "stdout",
     "output_type": "stream",
     "text": [
      "1.35 s ± 0 ns per loop (mean ± std. dev. of 1 run, 1 loop each)\n"
     ]
    }
   ],
   "source": [
    "%timeit -r1 grid_model.fit(iris.data, iris.target)"
   ]
  },
  {
   "cell_type": "code",
   "execution_count": 17,
   "id": "44bb9757",
   "metadata": {},
   "outputs": [
    {
     "data": {
      "text/html": [
       "<div>\n",
       "<style scoped>\n",
       "    .dataframe tbody tr th:only-of-type {\n",
       "        vertical-align: middle;\n",
       "    }\n",
       "\n",
       "    .dataframe tbody tr th {\n",
       "        vertical-align: top;\n",
       "    }\n",
       "\n",
       "    .dataframe thead th {\n",
       "        text-align: right;\n",
       "    }\n",
       "</style>\n",
       "<table border=\"1\" class=\"dataframe\">\n",
       "  <thead>\n",
       "    <tr style=\"text-align: right;\">\n",
       "      <th></th>\n",
       "      <th>n_neighbors</th>\n",
       "      <th>p</th>\n",
       "      <th>weights</th>\n",
       "      <th>mean_test_score</th>\n",
       "    </tr>\n",
       "  </thead>\n",
       "  <tbody>\n",
       "    <tr>\n",
       "      <th>75</th>\n",
       "      <td>8</td>\n",
       "      <td>4</td>\n",
       "      <td>distance</td>\n",
       "      <td>0.9800</td>\n",
       "    </tr>\n",
       "    <tr>\n",
       "      <th>74</th>\n",
       "      <td>8</td>\n",
       "      <td>4</td>\n",
       "      <td>uniform</td>\n",
       "      <td>0.9800</td>\n",
       "    </tr>\n",
       "    <tr>\n",
       "      <th>98</th>\n",
       "      <td>10</td>\n",
       "      <td>16</td>\n",
       "      <td>uniform</td>\n",
       "      <td>0.9800</td>\n",
       "    </tr>\n",
       "    <tr>\n",
       "      <th>88</th>\n",
       "      <td>9</td>\n",
       "      <td>16</td>\n",
       "      <td>uniform</td>\n",
       "      <td>0.9800</td>\n",
       "    </tr>\n",
       "    <tr>\n",
       "      <th>99</th>\n",
       "      <td>10</td>\n",
       "      <td>16</td>\n",
       "      <td>distance</td>\n",
       "      <td>0.9800</td>\n",
       "    </tr>\n",
       "  </tbody>\n",
       "</table>\n",
       "</div>"
      ],
      "text/latex": [
       "{\\centering\n",
       "\\begin{tabular}{lrrlr}\n",
       "\\toprule\n",
       "{} &  n\\_neighbors &   p &   weights &      mean\\_test\\_score \\\\\n",
       "\\midrule\n",
       "75 &            8 &   4 &  distance &               0.9800 \\\\\n",
       "74 &            8 &   4 &   uniform &               0.9800 \\\\\n",
       "98 &           10 &  16 &   uniform &               0.9800 \\\\\n",
       "88 &            9 &  16 &   uniform &               0.9800 \\\\\n",
       "99 &           10 &  16 &  distance &               0.9800 \\\\\n",
       "\\bottomrule\n",
       "\\end{tabular}\n",
       "\n",
       "\\medskip}"
      ],
      "text/plain": [
       "    n_neighbors   p   weights      mean_test_score\n",
       "75            8   4  distance               0.9800\n",
       "74            8   4   uniform               0.9800\n",
       "98           10  16   uniform               0.9800\n",
       "88            9  16   uniform               0.9800\n",
       "99           10  16  distance               0.9800"
      ]
     },
     "execution_count": 17,
     "metadata": {},
     "output_type": "execute_result"
    }
   ],
   "source": [
    "param_df = pd.DataFrame.from_records(grid_model.cv_results_['params'])\n",
    "param_df['mean_test_score'] = grid_model.cv_results_['mean_test_score']\n",
    "param_df.sort_values(by=['mean_test_score']).tail()"
   ]
  },
  {
   "cell_type": "code",
   "execution_count": 18,
   "id": "817dd33f",
   "metadata": {},
   "outputs": [
    {
     "name": "stdout",
     "output_type": "stream",
     "text": [
      "Best Estimator:\n",
      "KNeighborsClassifier(n_neighbors=8, p=4)\n",
      "Best Score:\n",
      "0.9800000000000001\n",
      "Best Params:\n",
      "{'n_neighbors': 8, 'p': 4, 'weights': 'uniform'}\n"
     ]
    }
   ],
   "source": [
    "print(\"Best Estimator:\", grid_model.best_estimator_,\n",
    "      \"Best Score:\",     grid_model.best_score_,\n",
    "      \"Best Params:\",    grid_model.best_params_, sep=\"\\n\")"
   ]
  },
  {
   "cell_type": "markdown",
   "id": "6438a6c7",
   "metadata": {},
   "source": [
    "##### Randomized Search"
   ]
  },
  {
   "cell_type": "code",
   "execution_count": 19,
   "id": "65e8305f",
   "metadata": {},
   "outputs": [
    {
     "name": "stdout",
     "output_type": "stream",
     "text": [
      "260 ms ± 0 ns per loop (mean ± std. dev. of 1 run, 1 loop each)\n",
      "0.9800000000000001\n"
     ]
    }
   ],
   "source": [
    "import scipy.stats as ss\n",
    "knn = neighbors.KNeighborsClassifier()\n",
    "param_dists = {\"n_neighbors\" : ss.randint(1,11), # values [1,10]\n",
    "               \"weights\"     : ['uniform', 'distance'],\n",
    "               \"p\"           : ss.geom(p=.5)}\n",
    "\n",
    "mod = skms.RandomizedSearchCV(knn, \n",
    "                              param_distributions = param_dists,\n",
    "                              cv=10, \n",
    "                              n_iter=20) # how many times do we sample?\n",
    "\n",
    "# fitting 20 models\n",
    "%timeit -r1 mod.fit(iris.data, iris.target)\n",
    "print(mod.best_score_)"
   ]
  },
  {
   "cell_type": "markdown",
   "id": "e38df25f",
   "metadata": {},
   "source": [
    "# Nested Cross-Validation"
   ]
  },
  {
   "cell_type": "code",
   "execution_count": 20,
   "id": "e6b5727a",
   "metadata": {},
   "outputs": [],
   "source": [
    "param_grid = {\"n_neighbors\" : np.arange(1,11),\n",
    "              \"weights\"     : ['uniform', 'distance'],\n",
    "              \"p\"           : [1,2,4,8,16]}\n",
    "\n",
    "knn = neighbors.KNeighborsClassifier()\n",
    "grid_knn = skms.GridSearchCV(knn, \n",
    "                             param_grid = param_grid, \n",
    "                             cv=3)"
   ]
  },
  {
   "cell_type": "code",
   "execution_count": 21,
   "id": "fef510f5",
   "metadata": {},
   "outputs": [
    {
     "name": "stdout",
     "output_type": "stream",
     "text": [
      "[0.9667 1.     0.9333 0.9667 1.    ]\n"
     ]
    }
   ],
   "source": [
    "outer_scores = skms.cross_val_score(grid_knn, \n",
    "                                    iris.data, iris.target,\n",
    "                                    cv=5)\n",
    "print(outer_scores)"
   ]
  },
  {
   "cell_type": "code",
   "execution_count": 22,
   "id": "a1ba195a",
   "metadata": {},
   "outputs": [],
   "source": [
    "def nested_cv_pseudo_code(all_data, modelClass):\n",
    "    results = []\n",
    "    for outer_train, test in make_cv_split(all_data):\n",
    "\n",
    "        for hyper_params in hyper_paramater_possibilities:\n",
    "            model = modelClass(hyper_params)\n",
    "            for train, valid in make_cv_split(outer_train):\n",
    "                inner_score = evaluate(model.fit(train).predict(valid))\n",
    "                # record inner results\n",
    "        # choose model with best inner_score\n",
    "        preds = best_model.fit(outer_train).predict(test)\n",
    "        results.append(evaluate(preds))"
   ]
  },
  {
   "cell_type": "code",
   "execution_count": 23,
   "id": "ba3c6d94",
   "metadata": {},
   "outputs": [
    {
     "name": "stdout",
     "output_type": "stream",
     "text": [
      "[0.9667 0.9667 0.9333 0.9667 1.    ]\n"
     ]
    }
   ],
   "source": [
    "# in practice, doing this isn't too difficult\n",
    "# here's a quick 5x2 setup (2 is the inner)\n",
    "param_grid = {\"n_neighbors\" : np.arange(1,11),\n",
    "              \"weights\"     : ['uniform', 'distance'],\n",
    "              \"p\"           : [1,2,4,8,16]}\n",
    "\n",
    "knn = neighbors.KNeighborsClassifier()\n",
    "grid_knn = skms.GridSearchCV(knn, param_grid, cv=2)\n",
    "outer_scores = skms.cross_val_score(grid_knn,\n",
    "                                    iris.data, \n",
    "                                    iris.target,\n",
    "                                    cv=5)\n",
    "print(outer_scores)"
   ]
  },
  {
   "cell_type": "code",
   "execution_count": 24,
   "id": "3bc39912",
   "metadata": {},
   "outputs": [
    {
     "data": {
      "text/plain": [
       "KNeighborsClassifier(n_neighbors=7, p=4, weights='distance')"
      ]
     },
     "execution_count": 24,
     "metadata": {},
     "output_type": "execute_result"
    }
   ],
   "source": [
    "grid_knn.fit(iris.data, iris.target)\n",
    "preferred_params = grid_knn.best_estimator_.get_params()\n",
    "\n",
    "final_knn = neighbors.KNeighborsClassifier(**preferred_params)\n",
    "final_knn.fit(iris.data, iris.target)"
   ]
  },
  {
   "cell_type": "markdown",
   "id": "5b8262b2",
   "metadata": {},
   "source": [
    "# Pipelines"
   ]
  },
  {
   "cell_type": "markdown",
   "id": "3fe3e5ae",
   "metadata": {},
   "source": [
    "##### A Simple Pipeline"
   ]
  },
  {
   "cell_type": "code",
   "execution_count": 25,
   "id": "0d8c9b6a",
   "metadata": {},
   "outputs": [
    {
     "name": "stdout",
     "output_type": "stream",
     "text": [
      "[1.     0.9333 1.     1.     0.9333 0.9333 0.8    1.     1.     1.    ]\n"
     ]
    }
   ],
   "source": [
    "scaler = skpre.StandardScaler()\n",
    "logreg = linear_model.LogisticRegression()\n",
    "\n",
    "pipe = pipeline.make_pipeline(scaler, logreg)\n",
    "print(skms.cross_val_score(pipe, iris.data, iris.target, cv=10))"
   ]
  },
  {
   "cell_type": "code",
   "execution_count": 26,
   "id": "1f8dfe87",
   "metadata": {},
   "outputs": [
    {
     "data": {
      "text/plain": [
       "dict_keys(['standardscaler', 'logisticregression'])"
      ]
     },
     "execution_count": 26,
     "metadata": {},
     "output_type": "execute_result"
    }
   ],
   "source": [
    "pipe.named_steps.keys()"
   ]
  },
  {
   "cell_type": "code",
   "execution_count": 27,
   "id": "b6be057d",
   "metadata": {},
   "outputs": [
    {
     "name": "stdout",
     "output_type": "stream",
     "text": [
      "dict_keys(['scaler', 'knn'])\n",
      "[1.     0.9333 1.     0.9333 0.8667 0.9333 0.8667 1.     1.     1.    ]\n"
     ]
    }
   ],
   "source": [
    "pipe = pipeline.Pipeline(steps=[('scaler', scaler),\n",
    "                                ('knn', knn)])\n",
    "\n",
    "cv_scores = skms.cross_val_score(pipe, iris.data, iris.target, \n",
    "                                 cv=10, \n",
    "                                 n_jobs=-1) # all CPUs\n",
    "print(pipe.named_steps.keys())\n",
    "print(cv_scores)"
   ]
  },
  {
   "cell_type": "markdown",
   "id": "46a99e16",
   "metadata": {},
   "source": [
    "##### More Complex Pipeline"
   ]
  },
  {
   "cell_type": "code",
   "execution_count": 28,
   "id": "1d69ff9b",
   "metadata": {},
   "outputs": [],
   "source": [
    "from sklearn.base import TransformerMixin\n",
    "class Median_Big_Small(TransformerMixin):\n",
    "    def fit(self, ftrs, tgt=None):\n",
    "        self.medians = np.median(ftrs)\n",
    "        return self\n",
    "    def transform(self, ftrs, tgt=None):\n",
    "        return ftrs > self.medians"
   ]
  },
  {
   "cell_type": "code",
   "execution_count": 29,
   "id": "5b73efef",
   "metadata": {},
   "outputs": [
    {
     "name": "stdout",
     "output_type": "stream",
     "text": [
      "[0.6    0.6667 0.8    0.7333 0.8    0.6667 0.6667 0.6667 0.8667 0.8   ]\n"
     ]
    }
   ],
   "source": [
    "scaler = skpre.StandardScaler()\n",
    "quad_inters = skpre.PolynomialFeatures(degree=2,              \n",
    "                                       interaction_only=True, \n",
    "                                       include_bias=False)\n",
    "median_big_small = Median_Big_Small()\n",
    "knn = neighbors.KNeighborsClassifier()\n",
    "\n",
    "pipe = pipeline.Pipeline(steps=[('scaler', scaler),\n",
    "                                ('inter',  quad_inters),\n",
    "                                ('mbs',    median_big_small),\n",
    "                                ('knn',    knn)])\n",
    "\n",
    "cv_scores = skms.cross_val_score(pipe, iris.data, iris.target, cv=10)\n",
    "\n",
    "print(cv_scores)"
   ]
  },
  {
   "cell_type": "markdown",
   "id": "bafdeb91",
   "metadata": {},
   "source": [
    "# Tuning Pipelines"
   ]
  },
  {
   "cell_type": "code",
   "execution_count": 30,
   "id": "729749ea",
   "metadata": {},
   "outputs": [],
   "source": [
    "# create pipeline components and pipeline\n",
    "scaler = skpre.StandardScaler()\n",
    "poly   = skpre.PolynomialFeatures()\n",
    "lasso  = linear_model.Lasso(selection='random', tol=.01)\n",
    "pipe = pipeline.make_pipeline(scaler, \n",
    "                              poly, \n",
    "                              lasso)"
   ]
  },
  {
   "cell_type": "code",
   "execution_count": 31,
   "id": "cc2ebc3b",
   "metadata": {},
   "outputs": [
    {
     "name": "stdout",
     "output_type": "stream",
     "text": [
      "{'lasso__alpha': array([ 2.,  4.,  8., 16., 32., 64.]),\n",
      " 'polynomialfeatures__degree': array([2, 3, 4, 5])}\n"
     ]
    }
   ],
   "source": [
    "# specified hyper-parameters to compare\n",
    "param_grid = {\"polynomialfeatures__degree\" : np.arange(2,6),\n",
    "              \"lasso__alpha\" : np.logspace(1,6,6,base=2)}\n",
    "\n",
    "from pprint import pprint as pp\n",
    "pp(param_grid)"
   ]
  },
  {
   "cell_type": "code",
   "execution_count": 32,
   "id": "0507f23b",
   "metadata": {},
   "outputs": [],
   "source": [
    "mod = skms.GridSearchCV(pipe, param_grid, n_jobs=-1)\n",
    "mod.fit(diabetes.data, diabetes.target);"
   ]
  },
  {
   "cell_type": "code",
   "execution_count": 33,
   "id": "6a92d861",
   "metadata": {},
   "outputs": [
    {
     "name": "stdout",
     "output_type": "stream",
     "text": [
      "{'lasso__alpha': 4.0, 'polynomialfeatures__degree': 2}\n"
     ]
    }
   ],
   "source": [
    "pp(mod.best_params_)"
   ]
  },
  {
   "cell_type": "code",
   "execution_count": null,
   "id": "7ff716ea",
   "metadata": {},
   "outputs": [],
   "source": []
  }
 ],
 "metadata": {
  "kernelspec": {
   "display_name": "Python 3 (ipykernel)",
   "language": "python",
   "name": "python3"
  },
  "language_info": {
   "codemirror_mode": {
    "name": "ipython",
    "version": 3
   },
   "file_extension": ".py",
   "mimetype": "text/x-python",
   "name": "python",
   "nbconvert_exporter": "python",
   "pygments_lexer": "ipython3",
   "version": "3.8.2"
  }
 },
 "nbformat": 4,
 "nbformat_minor": 5
}
